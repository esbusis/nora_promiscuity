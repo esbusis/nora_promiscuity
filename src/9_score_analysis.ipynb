{
 "cells": [
  {
   "cell_type": "code",
   "execution_count": 4,
   "metadata": {},
   "outputs": [],
   "source": [
    "import pandas as pd\n",
    "import matplotlib\n",
    "import matplotlib.pyplot as plt\n",
    "import numpy as np\n",
    "import seaborn as sns\n",
    "import os\n",
    "import sys\n",
    "import re\n",
    "import glob"
   ]
  },
  {
   "cell_type": "code",
   "execution_count": 9,
   "metadata": {},
   "outputs": [],
   "source": [
    "# Find out all csv files included in the folder ../2023_05_24_smina_screen\n",
    "csv_files = glob.glob('../data/2023_05_24_smina_screen/*.csv')\n",
    "# Read all csv files and add a column to indicate the name of the csv file\n",
    "df_smina = pd.concat([pd.read_csv(f).assign(filename=os.path.basename(f)) for f in csv_files])\n",
    "\n",
    "# Set an exhaustiveness columns with value of 16\n",
    "df_smina['exhaustiveness'] = 16\n",
    "\n",
    "# For each Ligand and receptor combination, compute the standard deviation of the scores\n",
    "df_smina_std = df_smina.groupby(['Ligand', 'receptor'])['Score'].std().reset_index()\n"
   ]
  },
  {
   "cell_type": "code",
   "execution_count": 22,
   "metadata": {},
   "outputs": [],
   "source": [
    "# For each Ligand find the lowest score and the corresponding output file, only taking pose 1 into account\n",
    "df_smina_min = df_smina[df_smina['Pose'] == 1].groupby(['Ligand'])['Score'].min().reset_index()\n",
    "df_smina_min = df_smina_min.merge(df_smina, on=['Ligand', 'Score'], how='left')\n",
    "\n",
    "# Include only Pose 1 in the dataframe\n",
    "df_smina_min = df_smina_min[df_smina_min['Pose'] == 1]\n",
    "\n",
    "# Rename ligand column to cluster\n",
    "df_smina_min = df_smina_min.rename(columns={'ligand': 'Cluster'})\n",
    "\n",
    "# Leave only cluster number in the cluster column. It is found in at the end of the string after the underscore\n",
    "df_smina_min['Cluster'] = df_smina_min['Cluster'].str.split('_').str[-1]\n",
    "\n",
    "# Sort the dataframe by Score in ascending order\n",
    "df_smina_min = df_smina_min.sort_values(by=['Score'])\n",
    "\n",
    "# Keep only minimum scores for each ligand.\n",
    "df_smina_min = df_smina_min.drop_duplicates(subset=['Ligand'])"
   ]
  },
  {
   "cell_type": "code",
   "execution_count": 25,
   "metadata": {},
   "outputs": [
    {
     "data": {
      "image/png": "[encoded data removed]",
      "text/plain": [
       "<Figure size 648x432 with 6 Axes>"
      ]
     },
     "metadata": {},
     "output_type": "display_data"
    }
   ],
   "source": [
    "# Plot distribution of the lowest score per cluster in subplots with shared x-axis\n",
    "g = sns.FacetGrid(df_smina_min, col=\"Cluster\", col_wrap=3, sharex=True)\n",
    "g.map_dataframe(sns.histplot, x=\"Score\", bins=20)\n",
    "g.set_axis_labels(\"Lowest score\", \"Count\")\n",
    "plt.show()\n"
   ]
  },
  {
   "cell_type": "code",
   "execution_count": 6,
   "metadata": {},
   "outputs": [
    {
     "data": {
      "text/plain": [
       "array(['../2023_04_13_dogsitescorer/cluster_pockets/frame_118.pdb',\n",
       "       '../2023_04_13_dogsitescorer/cluster_pockets/frame_6891.pdb'],\n",
       "      dtype=object)"
      ]
     },
     "execution_count": 6,
     "metadata": {},
     "output_type": "execute_result"
    }
   ],
   "source": [
    "# Which pockets are found in df_smina_min?\n",
    "df_smina_min['receptor'].unique()\n"
   ]
  },
  {
   "cell_type": "code",
   "execution_count": 7,
   "metadata": {},
   "outputs": [
    {
     "data": {
      "text/html": [
       "<div>\n",
       "<style scoped>\n",
       "    .dataframe tbody tr th:only-of-type {\n",
       "        vertical-align: middle;\n",
       "    }\n",
       "\n",
       "    .dataframe tbody tr th {\n",
       "        vertical-align: top;\n",
       "    }\n",
       "\n",
       "    .dataframe thead th {\n",
       "        text-align: right;\n",
       "    }\n",
       "</style>\n",
       "<table border=\"1\" class=\"dataframe\">\n",
       "  <thead>\n",
       "    <tr style=\"text-align: right;\">\n",
       "      <th></th>\n",
       "      <th>receptor</th>\n",
       "      <th>Ligand</th>\n",
       "    </tr>\n",
       "  </thead>\n",
       "  <tbody>\n",
       "    <tr>\n",
       "      <th>0</th>\n",
       "      <td>../2023_04_13_dogsitescorer/cluster_pockets/fr...</td>\n",
       "      <td>105</td>\n",
       "    </tr>\n",
       "    <tr>\n",
       "      <th>1</th>\n",
       "      <td>../2023_04_13_dogsitescorer/cluster_pockets/fr...</td>\n",
       "      <td>20</td>\n",
       "    </tr>\n",
       "  </tbody>\n",
       "</table>\n",
       "</div>"
      ],
      "text/plain": [
       "                                            receptor  Ligand\n",
       "0  ../2023_04_13_dogsitescorer/cluster_pockets/fr...     105\n",
       "1  ../2023_04_13_dogsitescorer/cluster_pockets/fr...      20"
      ]
     },
     "execution_count": 7,
     "metadata": {},
     "output_type": "execute_result"
    }
   ],
   "source": [
    "# How many ligands are found in each pocket?\n",
    "df_smina_min.groupby(['receptor'])['Ligand'].count().reset_index().head()"
   ]
  },
  {
   "cell_type": "code",
   "execution_count": 8,
   "metadata": {},
   "outputs": [
    {
     "data": {
      "text/html": [
       "<div>\n",
       "<style scoped>\n",
       "    .dataframe tbody tr th:only-of-type {\n",
       "        vertical-align: middle;\n",
       "    }\n",
       "\n",
       "    .dataframe tbody tr th {\n",
       "        vertical-align: top;\n",
       "    }\n",
       "\n",
       "    .dataframe thead th {\n",
       "        text-align: right;\n",
       "    }\n",
       "</style>\n",
       "<table border=\"1\" class=\"dataframe\">\n",
       "  <thead>\n",
       "    <tr style=\"text-align: right;\">\n",
       "      <th></th>\n",
       "      <th>receptor</th>\n",
       "      <th>Cluster</th>\n",
       "    </tr>\n",
       "  </thead>\n",
       "  <tbody>\n",
       "    <tr>\n",
       "      <th>0</th>\n",
       "      <td>../2023_04_13_dogsitescorer/cluster_pockets/fr...</td>\n",
       "      <td>[-1.sdf, 1.sdf, 0.sdf, 2.sdf, 3.sdf, 4.sdf]</td>\n",
       "    </tr>\n",
       "    <tr>\n",
       "      <th>1</th>\n",
       "      <td>../2023_04_13_dogsitescorer/cluster_pockets/fr...</td>\n",
       "      <td>[-1.sdf, 0.sdf, 2.sdf, 4.sdf]</td>\n",
       "    </tr>\n",
       "  </tbody>\n",
       "</table>\n",
       "</div>"
      ],
      "text/plain": [
       "                                            receptor  \\\n",
       "0  ../2023_04_13_dogsitescorer/cluster_pockets/fr...   \n",
       "1  ../2023_04_13_dogsitescorer/cluster_pockets/fr...   \n",
       "\n",
       "                                       Cluster  \n",
       "0  [-1.sdf, 1.sdf, 0.sdf, 2.sdf, 3.sdf, 4.sdf]  \n",
       "1                [-1.sdf, 0.sdf, 2.sdf, 4.sdf]  "
      ]
     },
     "execution_count": 8,
     "metadata": {},
     "output_type": "execute_result"
    }
   ],
   "source": [
    "# Which clusters are found in each pocket?\n",
    "df_smina_min.groupby(['receptor'])['Cluster'].unique().reset_index().head()\n"
   ]
  },
  {
   "cell_type": "code",
   "execution_count": 9,
   "metadata": {},
   "outputs": [
    {
     "data": {
      "text/html": [
       "<div>\n",
       "<style scoped>\n",
       "    .dataframe tbody tr th:only-of-type {\n",
       "        vertical-align: middle;\n",
       "    }\n",
       "\n",
       "    .dataframe tbody tr th {\n",
       "        vertical-align: top;\n",
       "    }\n",
       "\n",
       "    .dataframe thead th {\n",
       "        text-align: right;\n",
       "    }\n",
       "</style>\n",
       "<table border=\"1\" class=\"dataframe\">\n",
       "  <thead>\n",
       "    <tr style=\"text-align: right;\">\n",
       "      <th></th>\n",
       "      <th>Cluster</th>\n",
       "      <th>Ligand</th>\n",
       "    </tr>\n",
       "  </thead>\n",
       "  <tbody>\n",
       "    <tr>\n",
       "      <th>0</th>\n",
       "      <td>-1.sdf</td>\n",
       "      <td>36</td>\n",
       "    </tr>\n",
       "    <tr>\n",
       "      <th>1</th>\n",
       "      <td>0.sdf</td>\n",
       "      <td>7</td>\n",
       "    </tr>\n",
       "    <tr>\n",
       "      <th>2</th>\n",
       "      <td>1.sdf</td>\n",
       "      <td>5</td>\n",
       "    </tr>\n",
       "    <tr>\n",
       "      <th>3</th>\n",
       "      <td>2.sdf</td>\n",
       "      <td>34</td>\n",
       "    </tr>\n",
       "    <tr>\n",
       "      <th>4</th>\n",
       "      <td>3.sdf</td>\n",
       "      <td>38</td>\n",
       "    </tr>\n",
       "  </tbody>\n",
       "</table>\n",
       "</div>"
      ],
      "text/plain": [
       "  Cluster  Ligand\n",
       "0  -1.sdf      36\n",
       "1   0.sdf       7\n",
       "2   1.sdf       5\n",
       "3   2.sdf      34\n",
       "4   3.sdf      38"
      ]
     },
     "execution_count": 9,
     "metadata": {},
     "output_type": "execute_result"
    }
   ],
   "source": [
    "# Count the number of ligands per cluster\n",
    "df_smina_min.groupby(['Cluster'])['Ligand'].count().reset_index().head()"
   ]
  },
  {
   "cell_type": "code",
   "execution_count": 5,
   "metadata": {},
   "outputs": [],
   "source": [
    "# Find out the relevant pdb file in the folder ../2023_05_24_smina_screen for each ligand in df_smina_min\n",
    "df_smina_min['pdb_file'] = df_smina_min['filename'].str.split('.csv').str[0]\n",
    "df_smina_min['pdb_file'] = df_smina_min['pdb_file'] + '_' + df_smina_min['Ligand'] + '_1.pdb' "
   ]
  },
  {
   "cell_type": "code",
   "execution_count": 6,
   "metadata": {},
   "outputs": [],
   "source": [
    "# Copy the pdb_files that are found in any of the subfolders of the folder ../2023_05_24_smina_screen to a subfolder here called pdb_files\n",
    "\n",
    "# Create the folder pdb_files if it does not exist\n",
    "if not os.path.exists('pdb_files'):\n",
    "    os.makedirs('pdb_files')\n",
    "    \n",
    "for pdb_file in df_smina_min['pdb_file']:\n",
    "    os.system('cp ../2023_05_24_smina_screen/*/' + pdb_file + ' pdb_files/')\n"
   ]
  },
  {
   "cell_type": "code",
   "execution_count": null,
   "metadata": {},
   "outputs": [],
   "source": [
    "# Write df_smina_min to a csv file\n",
    "df_smina_min.to_csv('../data/df_smina_min.csv', index=False)"
   ]
  }
 ],
 "metadata": {
  "kernelspec": {
   "display_name": "teachopencadd",
   "language": "python",
   "name": "python3"
  },
  "language_info": {
   "codemirror_mode": {
    "name": "ipython",
    "version": 3
   },
   "file_extension": ".py",
   "mimetype": "text/x-python",
   "name": "python",
   "nbconvert_exporter": "python",
   "pygments_lexer": "ipython3",
   "version": "3.8.13"
  },
  "orig_nbformat": 4
 },
 "nbformat": 4,
 "nbformat_minor": 2
}
