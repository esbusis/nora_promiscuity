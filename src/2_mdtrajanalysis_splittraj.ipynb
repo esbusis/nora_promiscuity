{
 "cells": [
  {
   "cell_type": "code",
   "execution_count": 11,
   "metadata": {},
   "outputs": [],
   "source": [
    "import mdtraj\n",
    "import tqdm\n",
    "import os"
   ]
  },
  {
   "cell_type": "code",
   "execution_count": 6,
   "metadata": {},
   "outputs": [],
   "source": [
    "# Find the trajectory named step7_production_whole_dry_compact_center.xtc in md_sims_norA\\2021_09_21_charmmGUI_norA\\gromacs, and load it.\n",
    "traj = mdtraj.load('../md_sims_norA/2021_09_21_charmmGUI_norA/gromacs/step7_production_whole_dry_compact_center.xtc', \n",
    "                   top='../md_sims_norA/2021_09_21_charmmGUI_norA/gromacs/step6.6_equilibration_dry.gro')\n",
    "\n"
   ]
  },
  {
   "cell_type": "code",
   "execution_count": 12,
   "metadata": {},
   "outputs": [
    {
     "name": "stderr",
     "output_type": "stream",
     "text": [
      "100%|██████████| 10001/10001 [15:35<00:00, 10.69it/s]\n"
     ]
    }
   ],
   "source": [
    "# Split this traj into multiple frames, and save them as .pdb files.\n",
    "folder = \"2021_09_21_charmmGUI_norA_splitPDB\"\n",
    "\n",
    "# If folder does not exist, create it.\n",
    "if not os.path.exists(folder):\n",
    "    os.makedirs(folder)\n",
    "\n",
    "for i in tqdm.tqdm(range(0, traj.n_frames)):\n",
    "    traj[i].save_pdb(f'{folder}/frame_{i}.pdb')"
   ]
  }
 ],
 "metadata": {
  "kernelspec": {
   "display_name": "mdtrajanalysis",
   "language": "python",
   "name": "python3"
  },
  "language_info": {
   "codemirror_mode": {
    "name": "ipython",
    "version": 3
   },
   "file_extension": ".py",
   "mimetype": "text/x-python",
   "name": "python",
   "nbconvert_exporter": "python",
   "pygments_lexer": "ipython3",
   "version": "3.10.8"
  },
  "orig_nbformat": 4
 },
 "nbformat": 4,
 "nbformat_minor": 2
}
