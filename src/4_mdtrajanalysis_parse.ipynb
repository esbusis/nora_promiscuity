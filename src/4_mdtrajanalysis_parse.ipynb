{
 "cells": [
  {
   "cell_type": "code",
   "execution_count": 3,
   "metadata": {},
   "outputs": [],
   "source": [
    "import pandas\n",
    "import tqdm\n",
    "import os\n",
    "import glob\n",
    "from pathlib import Path"
   ]
  },
  {
   "cell_type": "code",
   "execution_count": 5,
   "metadata": {},
   "outputs": [
    {
     "name": "stderr",
     "output_type": "stream",
     "text": [
      "100%|██████████| 9996/9996 [03:01<00:00, 54.97it/s] \n"
     ]
    }
   ],
   "source": [
    "# Get a list of all *_desc.txt files with their full path in the directory 2021_09_21_charmmGUI_norA_splitPDB_dss\n",
    "txt_list = glob.glob('../data/2021_09_21_charmmGUI_norA_splitPDB_dss/*_desc.txt')\n",
    "\n",
    "# Parse each of these files into a single dataframe\n",
    "df = pandas.DataFrame()\n",
    "for i in tqdm.tqdm(range(0,len(txt_list))):\n",
    "    txt = txt_list[i]\n",
    "    df2 = pandas.read_csv(txt, sep='\\t')\n",
    "\n",
    "    # Get the basename of the file\n",
    "    txt2 = os.path.basename(txt)\n",
    "\n",
    "    # Add a column to the dataframe with the basename of the file\n",
    "    df2['frame'] = txt2\n",
    "    df = pandas.concat([df,df2], ignore_index=True)"
   ]
  },
  {
   "cell_type": "code",
   "execution_count": 6,
   "metadata": {},
   "outputs": [],
   "source": [
    "# Extract the number in frame column and strore it instead in frame column.\n",
    "df['frame'] = df['frame'].str.extract('(\\d+)').astype(int)"
   ]
  },
  {
   "cell_type": "code",
   "execution_count": 7,
   "metadata": {},
   "outputs": [],
   "source": [
    "df.to_csv('../data/df_pockets_2021_09_21_charmmGUI_norA.csv', index=False)"
   ]
  }
 ],
 "metadata": {
  "kernelspec": {
   "display_name": "mdtrajanalysis",
   "language": "python",
   "name": "python3"
  },
  "language_info": {
   "codemirror_mode": {
    "name": "ipython",
    "version": 3
   },
   "file_extension": ".py",
   "mimetype": "text/x-python",
   "name": "python",
   "nbconvert_exporter": "python",
   "pygments_lexer": "ipython3",
   "version": "3.10.8"
  },
  "orig_nbformat": 4
 },
 "nbformat": 4,
 "nbformat_minor": 2
}
