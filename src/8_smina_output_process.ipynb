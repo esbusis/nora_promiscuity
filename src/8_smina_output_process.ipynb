{
 "cells": [
  {
   "cell_type": "code",
   "execution_count": 8,
   "metadata": {},
   "outputs": [],
   "source": [
    "#import nglview as nv\n",
    "from openbabel import pybel\n",
    "import warnings\n",
    "from pathlib import Path\n",
    "\n",
    "from opencadd.structure.core import Structure\n",
    "from opencadd.io.dataframe import DataFrame\n",
    "import glob\n",
    "import os\n",
    "import tqdm\n"
   ]
  },
  {
   "cell_type": "code",
   "execution_count": null,
   "metadata": {},
   "outputs": [],
   "source": [
    "\n",
    "# filter warnings\n",
    "warnings.filterwarnings(\"ignore\")\n",
    "ob_log_handler = pybel.ob.OBMessageHandler()\n",
    "pybel.ob.obErrorLog.SetOutputLevel(0)\n",
    "\n",
    "# filter warnings\n",
    "warnings.filterwarnings(\"ignore\")\n",
    "ob_log_handler = pybel.ob.OBMessageHandler()\n",
    "pybel.ob.obErrorLog.SetOutputLevel(0)\n",
    "\n",
    "def split_sdf_file(sdf_path, folder_name):\n",
    "    \"\"\"\n",
    "    Split an SDF file into seperate files for each molecule.\n",
    "    Each file is named with consecutive numbers.\n",
    "\n",
    "    Parameters\n",
    "    ----------\n",
    "    sdf_path: str or pathlib.Path\n",
    "        Path to SDF file that should be split.\n",
    "    \"\"\"\n",
    "    sdf_path = Path(sdf_path)\n",
    "    stem = sdf_path.stem\n",
    "    #parent = sdf_path.parent\n",
    "    molecules = pybel.readfile(\"sdf\", str(sdf_path))\n",
    "\n",
    "    mol_title = ''\n",
    "    pose_rank = 1\n",
    "    if not os.path.exists(folder_name):\n",
    "        os.mkdir(folder_name)\n",
    "    for i, molecule in enumerate(molecules, 1):\n",
    "        if molecule.title == mol_title:\n",
    "            pose_rank += 1\n",
    "        else:\n",
    "            pose_rank = 1\n",
    "\n",
    "        mol_title = molecule.title\n",
    "        molecule.write(\"sdf\", os.path.join(folder_name, f\"{stem}_{mol_title}_{pose_rank}.sdf\"), overwrite=True)\n",
    "    return\n",
    "\n",
    "# Get a list of sdf files in the current folder.\n",
    "sdf_files = glob.glob('../data/*.sdf')\n",
    "\n",
    "# For each sdf file, split it into seperate files for each molecule.\n",
    "for sdf_file in sdf_files:\n",
    "    # Get the file name of sdf file, without path and extension.\n",
    "    file_name = os.path.splitext(os.path.basename(sdf_file))[0]\n",
    "    split_sdf_file(sdf_file, file_name)"
   ]
  },
  {
   "cell_type": "code",
   "execution_count": 9,
   "metadata": {},
   "outputs": [
    {
     "name": "stderr",
     "output_type": "stream",
     "text": [
      "100%|██████████| 98671/98671 [20:49:24<00:00,  1.32it/s]   \n"
     ]
    }
   ],
   "source": [
    "# Get all sdf files included in folders starting with frame*\n",
    "sdf_files = glob.glob('../data/frame*/*.sdf')\n",
    "\n",
    "# Get the list of receptor pdbqt files in the current folder.\n",
    "receptor_files = glob.glob('*.pdbqt')\n",
    "\n",
    "# For each sdf_file in sdf_files\n",
    "for sdf_file in tqdm.tqdm(sdf_files):\n",
    "    # Read in the sdf file using pybel\n",
    "    mol = next(pybel.readfile(\"sdf\", sdf_file))\n",
    "\n",
    "    # Find out the receptor frame number from the sdf file name.\n",
    "    # The sdf file name is of the form frame_XXX_YYY.sdf\n",
    "    # where XXX is the receptor frame number.\n",
    "    receptor_frame = os.path.splitext(os.path.basename(sdf_file))[0].split('_')[1]\n",
    "\n",
    "    # Get the receptor pdbqt file corresponding to the receptor frame number.\n",
    "    receptor_file = [file for file in receptor_files if receptor_frame in file][0]\n",
    "\n",
    "    # Read in the receptor pdbqt file using pybel\n",
    "    receptor = next(pybel.readfile(\"pdbqt\", receptor_file))\n",
    "\n",
    "    # Combine the receptor and ligand into a single structure.\n",
    "    receptor.OBMol += mol.OBMol\n",
    "    \n",
    "    # Write out the combined structure as a pdb file in the folder of sdf_file with approriate name.\n",
    "    # The pdb file name is of the form frame_XXX_YYY.pdb\n",
    "    # where XXX is the receptor frame number and YYY is the ligand pose number.\n",
    "    # The pdb file is written out in the same folder as the sdf file.\n",
    "    # \n",
    "    receptor.write(\"pdb\",str(Path(sdf_file).parent / f\"{os.path.splitext(os.path.basename(sdf_file))[0]}.pdb\"), overwrite=True)\n"
   ]
  }
 ],
 "metadata": {
  "kernelspec": {
   "display_name": "teachopencadd",
   "language": "python",
   "name": "python3"
  },
  "language_info": {
   "codemirror_mode": {
    "name": "ipython",
    "version": 3
   },
   "file_extension": ".py",
   "mimetype": "text/x-python",
   "name": "python",
   "nbconvert_exporter": "python",
   "pygments_lexer": "ipython3",
   "version": "3.8.13"
  },
  "orig_nbformat": 4
 },
 "nbformat": 4,
 "nbformat_minor": 2
}
